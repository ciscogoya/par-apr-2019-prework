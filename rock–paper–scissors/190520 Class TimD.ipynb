{
 "cells": [
  {
   "cell_type": "markdown",
   "metadata": {},
   "source": [
    "## Object-Oriented Programming"
   ]
  },
  {
   "cell_type": "code",
   "execution_count": 3,
   "metadata": {},
   "outputs": [],
   "source": [
    "import pandas as pd"
   ]
  },
  {
   "cell_type": "code",
   "execution_count": 4,
   "metadata": {},
   "outputs": [],
   "source": [
    "df=pd.DataFrame()"
   ]
  },
  {
   "cell_type": "code",
   "execution_count": 5,
   "metadata": {},
   "outputs": [],
   "source": [
    "df['list']=[1,2,3,4,5]"
   ]
  },
  {
   "cell_type": "code",
   "execution_count": 6,
   "metadata": {
    "scrolled": true
   },
   "outputs": [
    {
     "data": {
      "text/plain": [
       "list    15\n",
       "dtype: int64"
      ]
     },
     "execution_count": 6,
     "metadata": {},
     "output_type": "execute_result"
    }
   ],
   "source": [
    "df.sum()"
   ]
  },
  {
   "cell_type": "code",
   "execution_count": 7,
   "metadata": {},
   "outputs": [
    {
     "data": {
      "text/plain": [
       "list    3.0\n",
       "dtype: float64"
      ]
     },
     "execution_count": 7,
     "metadata": {},
     "output_type": "execute_result"
    }
   ],
   "source": [
    "df.mean()"
   ]
  },
  {
   "cell_type": "code",
   "execution_count": null,
   "metadata": {},
   "outputs": [],
   "source": [
    "class roller():\n",
    "    \n",
    "    def _init_(self):\n",
    "        fair=0\n",
    "        \n",
    "    def roll_the_dice():\n",
    "        import random\n",
    "        return random.randint(1,6)\n",
    "    \n",
    "    def roll_the_unf_dice():\n",
    "        import numpy as np\n",
    "        value = np.random.choice([1,2,3,4,5,6]), p=[1/8,1/16,1/2,1/8,1/16,1/8]\n",
    "        return value"
   ]
  },
  {
   "cell_type": "code",
   "execution_count": 10,
   "metadata": {},
   "outputs": [],
   "source": [
    "class Dog:\n",
    "    \n",
    "    def __init__(self,name,age):\n",
    "        pass"
   ]
  },
  {
   "cell_type": "code",
   "execution_count": 11,
   "metadata": {
    "scrolled": true
   },
   "outputs": [
    {
     "name": "stdout",
     "output_type": "stream",
     "text": [
      "<class '__main__.Dog'>\n"
     ]
    }
   ],
   "source": [
    "barky=Dog\n",
    "print(barky)"
   ]
  },
  {
   "cell_type": "code",
   "execution_count": 37,
   "metadata": {},
   "outputs": [],
   "source": [
    "class Dog:\n",
    "    \n",
    "    species='mammals'\n",
    "    nb_of_legs=4\n",
    "    lvl_of_danger=1\n",
    "    \n",
    "    def __init__(self,name,age,lod=lvl_of_danger):\n",
    "        self.name=name\n",
    "        self.age=age\n",
    "        self.lvl_of_danger=lod\n",
    "    \n",
    "    def bark(self):\n",
    "        print('waf waf')\n",
    "    \n",
    "    def birthday(self):\n",
    "        self.age +=1\n",
    "        \n",
    "    def setBuddy(self,buddy):\n",
    "        self.buddy=buddy\n",
    "        buddy.buddy=self\n",
    "    def cutlegs(self,noltc):\n",
    "        self.nb_of_legs-=noltc\n",
    "        \n",
    "class Bulldog(Dog):\n",
    "    \n",
    "    weight=100\n",
    "    \n",
    "    def run(self,speed):\n",
    "        print(f'{self.name},{speed}')\n",
    "    "
   ]
  },
  {
   "cell_type": "code",
   "execution_count": 41,
   "metadata": {},
   "outputs": [],
   "source": [
    "Rocky=Bulldog('Rocky',4)\n",
    "Rocky2=Dog('Rocky',6)"
   ]
  },
  {
   "cell_type": "code",
   "execution_count": 28,
   "metadata": {},
   "outputs": [
    {
     "name": "stdout",
     "output_type": "stream",
     "text": [
      "waf waf\n"
     ]
    }
   ],
   "source": [
    "barky=Dog('zippy',1)\n",
    "barky.bark()\n",
    "barky.birthday()"
   ]
  },
  {
   "cell_type": "code",
   "execution_count": 29,
   "metadata": {},
   "outputs": [
    {
     "data": {
      "text/plain": [
       "2"
      ]
     },
     "execution_count": 29,
     "metadata": {},
     "output_type": "execute_result"
    }
   ],
   "source": [
    "barky.age"
   ]
  },
  {
   "cell_type": "code",
   "execution_count": 30,
   "metadata": {},
   "outputs": [
    {
     "name": "stdout",
     "output_type": "stream",
     "text": [
      "zippy is 2 y.o.\n"
     ]
    }
   ],
   "source": [
    "print(f'{barky.name} is {barky.age} y.o.')"
   ]
  },
  {
   "cell_type": "code",
   "execution_count": 35,
   "metadata": {},
   "outputs": [
    {
     "name": "stdout",
     "output_type": "stream",
     "text": [
      "fluffy\n",
      "zippy\n",
      "zippy\n"
     ]
    }
   ],
   "source": [
    "barky=Dog('zippy',1)\n",
    "fluffy=Dog('fluffy',1)\n",
    "\n",
    "fluffy2=Dog('fluffy2',1)\n",
    "\n",
    "fluffy2.setBuddy(barky)\n",
    "barky.setBuddy(fluffy)\n",
    "print(barky.buddy.name)\n",
    "print(fluffy.buddy.name)\n",
    "print(fluffy2.buddy.name)"
   ]
  },
  {
   "cell_type": "code",
   "execution_count": null,
   "metadata": {},
   "outputs": [],
   "source": [
    "# can write Dog.cutlegs(a,2) or a.cutlegs(2)"
   ]
  },
  {
   "cell_type": "code",
   "execution_count": 42,
   "metadata": {},
   "outputs": [
    {
     "data": {
      "text/plain": [
       "True"
      ]
     },
     "execution_count": 42,
     "metadata": {},
     "output_type": "execute_result"
    }
   ],
   "source": [
    "isinstance(Rocky,(int, float, Bulldog))"
   ]
  },
  {
   "cell_type": "markdown",
   "metadata": {},
   "source": [
    "## LAB"
   ]
  },
  {
   "cell_type": "code",
   "execution_count": 132,
   "metadata": {},
   "outputs": [],
   "source": [
    "class CafePpl:\n",
    "    \n",
    "    species='human'\n",
    "    nb_of_legs=2\n",
    "    boss=False\n",
    "    hot=False\n",
    "    tasks=[]\n",
    "    job='intern'\n",
    "    rank=3\n",
    "    \n",
    "    def __init__(self,name,age,gender,job=job,rank=rank,tasks=tasks,subo=[],manager=None,tasks_assigned=[()]):\n",
    "        self.name=name\n",
    "        self.age=age\n",
    "        self.gender=gender\n",
    "        self.job=job\n",
    "        self.tasks=tasks\n",
    "        self.subo=subo\n",
    "        self.manager=manager\n",
    "        self.tasks_assigned=tasks_assigned\n",
    "        self.rank=rank\n",
    "    \n",
    "    def boss(self):\n",
    "        self.boss=True\n",
    "        self.rank=1\n",
    "        self.tasks=['be bossy','organize staff and planning']\n",
    "        \n",
    "        \n",
    "        \n",
    "    def hot(self):\n",
    "        self.hot=True\n",
    "        self.tasks=['be nice to customers']\n",
    "        \n",
    "    def barista(self):\n",
    "        self.job='barista'\n",
    "        self.tasks=['prepare beverages','make sure ingredients are ready']\n",
    "   \n",
    "    def assignSubo(self,x):\n",
    "        self.subo.append(x.name)\n",
    "        x.manager=self.name\n",
    "\n",
    "    def assignTask(self,sub,x):\n",
    "        sub.tasks.append(x)\n",
    "        self.tasks_assigned.append((sub.name,sub.tasks))\n",
    "        \n",
    "    def getJob(self):\n",
    "        print(f'{self.name} is a {self.job} at Central Perk')\n",
    "        \n",
    "    def getTasks(self):\n",
    "        print(f'{self.name} tasks are {self.tasks}')\n",
    "        \n",
    "    def getTasks_assigned(self):\n",
    "        print(f'Tasks assigned by {self.name} are: {self.tasks_assigned}')\n",
    "        \n",
    "    def getSubo(self):\n",
    "        print(f'{self.name} subordinates are {self.subo}')\n",
    "        \n",
    "    def getManager(self):\n",
    "        print(f'The manager of {self.name} is {self.manager}')"
   ]
  },
  {
   "cell_type": "code",
   "execution_count": 141,
   "metadata": {},
   "outputs": [
    {
     "name": "stdout",
     "output_type": "stream",
     "text": [
      "Rachel tasks are ['be nice to customers', 'Greet customers']\n",
      "Tasks assigned by Gunther are: [(), ('Rachel', ['be nice to customers', 'Greet customers']), ('Rachel', ['be nice to customers', 'Greet customers']), ('Rachel', ['be nice to customers', 'Greet customers']), ('Rachel', ['be nice to customers', 'Greet customers']), ('Rachel', ['be nice to customers', 'Greet customers']), ('Rachel', ['be nice to customers', 'Greet customers']), ('Rachel', ['be nice to customers', 'Greet customers']), ('Rachel', ['be nice to customers', 'Greet customers'])]\n",
      "Gunther subordinates are ['Rachel', 'Rachel', 'Rachel', 'Rachel', 'Rachel', 'Rachel', 'Rachel', 'Rachel']\n",
      "People who work here: ['andrea', 'gunther', 'mike', 'rachel']\n"
     ]
    }
   ],
   "source": [
    "gunther=CafePpl('Gunther',30,'M','GM')\n",
    "gunther.boss()\n",
    "\n",
    "rachel=CafePpl('Rachel',25,'F','Waitress')\n",
    "rachel.hot()\n",
    "\n",
    "andrea=CafePpl('Andrea',22,'M')\n",
    "andrea.hot()\n",
    "andrea.barista()\n",
    "\n",
    "mike=CafePpl('Mike',24,'M','Janitor')\n",
    "\n",
    "gunther.assignSubo(rachel)\n",
    "\n",
    "gunther.assignTask(rachel,'Greet customers')\n",
    "\n",
    "rachel.getTasks()\n",
    "\n",
    "gunther.getTasks_assigned()\n",
    "\n",
    "gunther.getSubo()\n",
    "\n",
    "lll=%who_ls CafePpl\n",
    "print(f\"People who work here: {lll}\")"
   ]
  }
 ],
 "metadata": {
  "kernelspec": {
   "display_name": "Python 3",
   "language": "python",
   "name": "python3"
  },
  "language_info": {
   "codemirror_mode": {
    "name": "ipython",
    "version": 3
   },
   "file_extension": ".py",
   "mimetype": "text/x-python",
   "name": "python",
   "nbconvert_exporter": "python",
   "pygments_lexer": "ipython3",
   "version": "3.7.3"
  }
 },
 "nbformat": 4,
 "nbformat_minor": 2
}
